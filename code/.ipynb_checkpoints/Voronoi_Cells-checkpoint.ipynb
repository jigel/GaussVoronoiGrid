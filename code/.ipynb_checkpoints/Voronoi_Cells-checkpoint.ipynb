{
 "cells": [
  {
   "cell_type": "markdown",
   "metadata": {},
   "source": [
    "# Voronoi Cells\n",
    "\n",
    "After the grid is created and saved as a .npy we can compute the voronoi cells and calculate the voronoi cell surface area. As input we have the grid and as output the surface area corresponding to the voronoi cell of each grid point plus the grid, since the order might change."
   ]
  },
  {
   "cell_type": "code",
   "execution_count": 21,
   "metadata": {},
   "outputs": [],
   "source": [
    "import numpy as np\n",
    "import os\n",
    "import h5py\n",
    "from scripts.voronoi_surface_area import get_voronoi_surface_area"
   ]
  },
  {
   "cell_type": "code",
   "execution_count": 20,
   "metadata": {},
   "outputs": [],
   "source": [
    "# Grid name\n",
    "grid_name = 'GaussianGrid'\n",
    "\n",
    "# import grid from grids folder\n",
    "grid = np.load(os.path.join('./grids/',grid_name + '.npy'))"
   ]
  },
  {
   "cell_type": "code",
   "execution_count": 24,
   "metadata": {},
   "outputs": [
    {
     "name": "stdout",
     "output_type": "stream",
     "text": [
      "0 of 17038 voronoi cell surface areas calculated.\n",
      "1000 of 17038 voronoi cell surface areas calculated.\n",
      "2000 of 17038 voronoi cell surface areas calculated.\n",
      "3000 of 17038 voronoi cell surface areas calculated.\n",
      "4000 of 17038 voronoi cell surface areas calculated.\n",
      "5000 of 17038 voronoi cell surface areas calculated.\n",
      "6000 of 17038 voronoi cell surface areas calculated.\n",
      "7000 of 17038 voronoi cell surface areas calculated.\n",
      "8000 of 17038 voronoi cell surface areas calculated.\n",
      "9000 of 17038 voronoi cell surface areas calculated.\n",
      "10000 of 17038 voronoi cell surface areas calculated.\n",
      "11000 of 17038 voronoi cell surface areas calculated.\n",
      "12000 of 17038 voronoi cell surface areas calculated.\n",
      "13000 of 17038 voronoi cell surface areas calculated.\n",
      "14000 of 17038 voronoi cell surface areas calculated.\n",
      "15000 of 17038 voronoi cell surface areas calculated.\n",
      "16000 of 17038 voronoi cell surface areas calculated.\n",
      "17000 of 17038 voronoi cell surface areas calculated.\n",
      "All voronoi cell surface areas calculated.\n"
     ]
    }
   ],
   "source": [
    "# calculate voronoi surface area\n",
    "grd, voronoi_areas = get_voronoi_surface_area(grid)"
   ]
  },
  {
   "cell_type": "code",
   "execution_count": 25,
   "metadata": {},
   "outputs": [],
   "source": [
    "# Save grid and voronoi cell areas to .h5 file\n",
    "with h5py.File(os.path.join('./grids/',grid_name + '.h5'),'w') as fh:\n",
    "    fh.create_dataset('coordinates',data=grd.astype(np.float32))\n",
    "    fh.create_dataset('voronoi_areas',data=voronoi_areas.astype(np.float32))"
   ]
  }
 ],
 "metadata": {
  "kernelspec": {
   "display_name": "Python [conda env:Noisi_Py3]",
   "language": "python",
   "name": "conda-env-Noisi_Py3-py"
  },
  "language_info": {
   "codemirror_mode": {
    "name": "ipython",
    "version": 3
   },
   "file_extension": ".py",
   "mimetype": "text/x-python",
   "name": "python",
   "nbconvert_exporter": "python",
   "pygments_lexer": "ipython3",
   "version": "3.6.5"
  }
 },
 "nbformat": 4,
 "nbformat_minor": 2
}
